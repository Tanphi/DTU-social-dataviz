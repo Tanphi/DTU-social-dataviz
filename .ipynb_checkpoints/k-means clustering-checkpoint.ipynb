{
 "cells": [
  {
   "cell_type": "markdown",
   "metadata": {},
   "source": [
    "# ASSIGNMENT 2: k-means clustering\n",
    "\n"
   ]
  },
  {
   "cell_type": "markdown",
   "metadata": {},
   "source": [
    "* Retreive data from the SFPD file"
   ]
  },
  {
   "cell_type": "code",
   "execution_count": null,
   "metadata": {
    "collapsed": true
   },
   "outputs": [],
   "source": [
    "import csv\n",
    "infile = open(\"SFPD_Incidents_-_from_1_January_2003.csv\", 'r')    # open the file for reading\n",
    "cpt = 0;\n",
    "\n",
    "reader = csv.reader(infile)\n",
    "reader.next() #remove headers\n",
    "sf_crimes = []\n",
    "\n",
    "for line in reader:\n",
    "    if line[6]:# read through the CSV one line at a time\n",
    "        sf_crimes.append(line)"
   ]
  },
  {
   "cell_type": "markdown",
   "metadata": {},
   "source": [
    "* Apply K-mean clustering for K=2,...6"
   ]
  },
  {
   "cell_type": "code",
   "execution_count": null,
   "metadata": {
    "collapsed": true
   },
   "outputs": [],
   "source": [
    "from sklearn import cluster, datasets\n",
    "\n",
    "#General algorithm\n",
    "def k_mean(nb_clusters, population):\n",
    "    k_means = cluster.KMeans(n_clusters = nb_clusters)\n",
    "    result = k_means.fit([(float(line[9]),float(line[10])) for line in population if line[1]=='PROSTITUTION'])\n",
    "    return (k_means, result)\n",
    "   \n",
    "#Apply algorithm for each value of K\n",
    "results = []\n",
    "for i in range(2,7):\n",
    "    r = k_mean(i, [line for line in sf_crimes if line[1]=='PROSTITUTION' and float(line[9])<-122])\n",
    "    results.append(r)        "
   ]
  },
  {
   "cell_type": "markdown",
   "metadata": {},
   "source": [
    "* Save cluster's center and the cluster to which a datapoint belongs in files, for each value of K"
   ]
  },
  {
   "cell_type": "code",
   "execution_count": null,
   "metadata": {
    "collapsed": true
   },
   "outputs": [],
   "source": [
    "# General saving process\n",
    "def save(clusters, predictions, i):\n",
    "    centers = clusters.cluster_centers_\n",
    "    f = open('K-means'+str(i)+'.csv', 'w')\n",
    "    f2 = open('Centers'+str(i)+'.csv', 'w')\n",
    "    f2.write('nb,lon,lat\\n')\n",
    "    k=0;\n",
    "    for ce in centers:\n",
    "        f2.write(str(k)+','+str(ce[0]) + ',' + str(ce[1]) + '\\n')\n",
    "        k=k+1\n",
    "    f.write('nb,lon,lat\\n')\n",
    "    for c in sf_crimes:\n",
    "        if c[1]=='PROSTITUTION':\n",
    "            cluster = clusters.predict([(float(c[9]),float(c[10]))])\n",
    "            f.write(str(cluster[0]) + ',' + c[9] + ',' + c[10] +'\\n')\n",
    "    f.close()\n",
    "    f2.close()\n",
    "\n",
    "#Save files for each value of K\n",
    "i = 2;\n",
    "print len(results)\n",
    "for r in results:\n",
    "    clust, predict = r\n",
    "    save(clust, predict, i)\n",
    "    i = i+1"
   ]
  }
 ],
 "metadata": {
  "kernelspec": {
   "display_name": "Python 2",
   "language": "python",
   "name": "python2"
  },
  "language_info": {
   "codemirror_mode": {
    "name": "ipython",
    "version": 2
   },
   "file_extension": ".py",
   "mimetype": "text/x-python",
   "name": "python",
   "nbconvert_exporter": "python",
   "pygments_lexer": "ipython2",
   "version": "2.7.11"
  }
 },
 "nbformat": 4,
 "nbformat_minor": 0
}
